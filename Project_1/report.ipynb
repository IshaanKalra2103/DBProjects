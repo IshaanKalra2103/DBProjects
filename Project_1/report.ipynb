{
 "cells": [
  {
   "cell_type": "markdown",
   "metadata": {},
   "source": [
    "<img src=\"assets/header.png\">"
   ]
  },
  {
   "cell_type": "markdown",
   "metadata": {},
   "source": [
    "| **Lecturers:** | **EIDER ERNESTO ELBITAR LOPEZ** |               |            |\n",
    "|---------------|--------------------------------|---------------|------------|\n",
    "| **Group:**    | **R87-228**                    | **Lab User**  |            |\n",
    "| **Student:**  | **Ishaan Kalra**               | **NIA:**      | **100559793** |\n",
    "| **Student:**  | **Ben Purchase**               | **NIA:**      | **100557337** |\n",
    "| **Student:**  | **Lucas Pedemonte**            | **NIA:**      | **100558486** |"
   ]
  },
  {
   "cell_type": "markdown",
   "metadata": {},
   "source": [
    "# **Introduction**"
   ]
  },
  {
   "cell_type": "markdown",
   "metadata": {},
   "source": [
    "- The Foundation for the Diffusion of Culture (Foundicu Org.) requires an optimized relational database system to efficiently manage its bibliographic collections and mobile library operations. The current database is inadequate, with only three loosely connected tables—acervus (bibliographic collection), loans (book lending records), and busstops (mobile library routes). These tables lack the necessary structure and constraints for seamless data management. The objective of this lab work is to analyze these deficiencies, design a robust relational schema that adheres to the given specifications, and implement it using PL/SQL on an Oracle DBMS.\n",
    "\n",
    "- This report is accompanied by two SQL scripts:\n",
    "\n",
    "    - NEWcreation.sql – Defines the database schema.\n",
    "\n",
    "    - NEWload.sql – Handles data migration from the old system to the new structure.\n",
    "\n",
    "- The document is structured as follows:\n",
    "\n",
    "    - Relational Design – Outlines the complete relational schema, implicit semantics, and non-observed explicit semantics using relational graph notation and tabular representations.\n",
    "    - Relational Statics Implementation in SQL (DDL) – Provides the SQL implementation of the relational schema, detailing re-incorporated, newly incorporated, and excluded semantics.\n",
    "    - Workload (DML) – Describes the data migration process, including the order of table population, challenges faced, and solutions applied to ensure data integrity.\n",
    "    This structured approach ensures that the newly designed database meets the operational needs of Foundicu Org., improving efficiency, accuracy, and usability.\n",
    "\n"
   ]
  },
  {
   "cell_type": "markdown",
   "metadata": {},
   "source": [
    "---\n",
    "# **Relational Design**"
   ]
  },
  {
   "cell_type": "markdown",
   "metadata": {},
   "source": [
    "This section is subdivided into three subsections:\n",
    "\n",
    "### **1. Relational Schema**\n",
    "\n",
    "<img src=\"assets/schema.png\" height=\"800px\" width=\"800px\">\n",
    "\n",
    "<img src=\"assets/graphviz.svg\" height=\"500px\" width=\"500px\">\n",
    "\n",
    "\n",
    "### **2. Implicit Semantics**\n",
    "\n",
    "Semantic presuppositions that are not found in the explicit description but are required to complete the relational design.\n",
    "\n",
    "#### **Table 1: Implicit semantics incorporated into the relational graph**\n",
    "\n",
    "| **Presp_id** | **Stage**      | **Mechanism**       | **Description**                                                                     |\n",
    "| ------------ | -------------- | ------------------- | ----------------------------------------------------------------------------------- |\n",
    "| I1           | Design         | Primary key         | Each book is uniquely identified by its title.                                      |\n",
    "| I2           | Design         | Primary key         | Each edition of a book is uniquely identified by its ISBN.                          |\n",
    "| I3           | Design         | Primary key         | Each user is uniquely identified by their user ID.                                  |\n",
    "| I4           | Design         | Primary key         | Each loan transaction is uniquely identified by the signature of the borrowed copy. |\n",
    "| I5           | Implementation | Foreign key         | The `isbn` field in Copies must reference a valid book edition.                     |\n",
    "| I6           | Implementation | Foreign key         | The `user_id` in Loans must reference an existing user.                             |\n",
    "| I7           | Design         | Check constraint    | A book can have multiple editions, but each edition must have a valid ISBN.         |\n",
    "| I8           | Implementation | Check constraint    | A user can only borrow a book if their account is in good standing.                 |\n",
    "| I9           | Implementation | Not null constraint | The `route_id` in Routes must always have a valid reference.                        |\n",
    "| I10          | Implementation | Default value       | `has_library` in Towns defaults to `false` if not specified.                        |\n",
    "\n",
    "\n",
    "### **3. Non-Observed Explicit Semantics**  \n",
    "\n",
    "Each of the explicit presuppositions (stated in the problem description) that could not be included in the relational graph will be identified (with a label, such as S1, S2, …) and described in this section.\n",
    "\n",
    "#### **Table 2: Non-observed explicit semantics**  \n",
    "\n",
    "| **Presp_id** | **Description**                                                         |\n",
    "| ------------ | ----------------------------------------------------------------------- |\n",
    "| S1           | Phone numbers have 9 digits (at least, at most).                        |\n",
    "| S2           | Users cannot borrow more than 2 books at a time, except municipal libraries. |\n",
    "| S3           | Books are borrowed for a fixed period of two weeks.                     |\n",
    "| S4           | Municipal libraries can hold 2 copies for every ten registered inhabitants. |\n",
    "| S5           | Users must return books on the next visit of the mobile library.        |\n",
    "| S6           | Overdue returns result in penalties based on the delay period.         |\n",
    "| S7           | Users can leave comments on books, but only if they have borrowed them before. |\n",
    "| S8           | Likes and dislikes are stored, but only positive votes are counted.    |\n",
    "| S9           | Deregistered books remain in the database but cannot be loaned out.    |\n",
    "| S10          | Mobile libraries follow predefined routes and do not deviate.          |\n",
    "\n"
   ]
  },
  {
   "cell_type": "markdown",
   "metadata": {},
   "source": [
    "---"
   ]
  },
  {
   "cell_type": "markdown",
   "metadata": {},
   "source": [
    "## **Relational Statics Implementation in SQL (DDL)**  \n",
    "This section must include the creation of each table. In addition to the code (`NEWcreation.sql` script) for creating tables (valid syntax in PL/SQL), the following subsections are also covered for an indepth analysis of the Relational Statistics.\n",
    "\n",
    "- **Excluded semantics that are re-incorporated**  \n",
    "- **Newly incorporated implicit semantics**  \n",
    "- **Explicit semantics that were observed but are now excluded**  \n",
    "\n",
    "#### **Table 3: Re-incorporated explicit semantics**\n",
    "\n",
    "| **Presp_id** | **Solution Description** |\n",
    "|--------------|--------------------------|\n",
    "| **S1**       | Field size is 9; a constraint (constraint_name) CHECK (phone >= 100000000) is added to the table `Library_Staff`. |\n",
    "| **S2**       | A foreign key constraint is added between `Books` and `Editions` on `isbn`, which was excluded in previous versions of the schema but is now re-incorporated. |\n",
    "| **S3**       | A primary key constraint is added for the `Books` table using (title, pub_date). |\n",
    "| **S4**       | A primary key constraint is added for the `Publications` table using (isbn). |\n",
    "| **S5**       | A foreign key constraint between `Editions` and `Publications` is added on (isbn). |\n",
    "\n",
    "\n",
    "#### **Table 4: Implicit semantics incorporated in the definition of each table**\n",
    "\n",
    "\n",
    "\n",
    "| **Presp_id** | **Stage**      | **Mechanism**   | **Description**                                        |\n",
    "|--------------|----------------|-----------------|--------------------------------------------------------|\n",
    "| **In+1**     | Implementation | Check           | No phone number in `Library_Staff` should be less than 100000000. |\n",
    "| **In+2**     | Implementation | Foreign Key     | Foreign key relationship is established between `Users` and `Towns` based on (town, province). |\n",
    "| **In+3**     | Implementation | Check           | `Books` table ensures no duplicate entries using a primary key on (title, pub_date). |\n",
    "| **In+4**     | Implementation | Foreign Key     | Foreign key relationship is established between `Editions` and `Publications`. |\n",
    "| **In+5**     | Implementation | Foreign Key     | Foreign key relationship is established between `Books` and `Editions` based on (title, pub_date). |\n",
    "\n",
    "\n",
    "\n",
    "### **Excluded Semantics**  \n",
    "\n",
    "#### **Table 5: Explicit semantics excluded in the creation of each table**\n",
    "\n",
    "| **Presp_id** | **Description**                                                                 | **Cause**                                                                                     | **Explicit/Implicit** |\n",
    "|--------------|--------------------------------------------------------------------------------------------|--------------------------------------------------------------------------------------------------------|-----------------------|\n",
    "| **E1**       | The foreign key on `Loans` referencing `Copies` should enforce cascading updates, but PL/SQL does not support cascading updates for foreign keys in this case. | PL/SQL does not support automatic cascading updates for foreign keys in this implementation. | Implicit               |\n",
    "| **E2**       | The table should automatically check for the existence of 'books' before a loan is processed, but this check is excluded for simplicity. | Design decision: Flexibility is needed for the processing of loans.                           | Explicit               |\n",
    "| **E3**       | There should be automatic checks on loan duration (e.g., no loan can exceed a certain period), but this is excluded for flexibility. | Design decision: No automatic enforcement of loan durations.                                 | Explicit               |\n",
    "| **E4**       | The system should track the number of books borrowed per user automatically, but this is not implemented here. | Design decision: No enforcement of automatic book count during loans.                        | Explicit               |\n"
   ]
  },
  {
   "cell_type": "markdown",
   "metadata": {},
   "source": [
    "---"
   ]
  },
  {
   "cell_type": "markdown",
   "metadata": {},
   "source": [
    "## **Workload Uploading Process**\n",
    "\n",
    "The workload upload process involves transferring data from the old database structure into the newly designed relational schema. The migration is carried out using the `NEWload.sql` script, which ensures that the data is properly formatted, constraints are enforced, and inconsistencies are handled effectively.\n",
    "\n",
    "### **Order of Table Population**\n",
    "To maintain referential integrity and avoid foreign key violations, data is uploaded in the following order:\n"
   ]
  },
  {
   "cell_type": "markdown",
   "metadata": {},
   "source": [
    "```sql\n",
    "MERGE INTO Books dest\n",
    "USING (\n",
    "    SELECT Title, Main_Author, Other_Authors, Mention_Authors, NVL(PUB_DATE, 'N/A') AS PUB_DATE, \n",
    "           Pub_Country, Original_Language, Alt_Title, Topic, Content_Notes, Awards\n",
    "    FROM (\n",
    "        SELECT Title, Main_Author, Other_Authors, Mention_Authors, PUB_DATE, Pub_Country, \n",
    "               Original_Language, Alt_Title, Topic, Content_Notes, Awards,\n",
    "               ROW_NUMBER() OVER (PARTITION BY Title, PUB_DATE ORDER BY Title) AS rn\n",
    "        FROM fsdb.acervus\n",
    "    ) \n",
    "    WHERE rn = 1\n",
    ") src\n",
    "ON (dest.title = src.Title AND dest.pub_date = src.PUB_DATE)\n",
    "WHEN NOT MATCHED THEN\n",
    "    INSERT (title, main_author, other_authors, mention_authors, pub_date, pub_country, \n",
    "            original_language, alt_title, topic, content_notes, awards)\n",
    "    VALUES (src.Title, src.Main_Author, src.Other_Authors, src.Mention_Authors, src.PUB_DATE, \n",
    "            src.Pub_Country, src.Original_Language, src.Alt_Title, src.Topic, src.Content_Notes, src.Awards);\n",
    "```\n",
    "\n",
    "- This table transfers all the necessary data into the Books table from fsdb.acervus, using the\n",
    "ROW_NUMBERI() query to make sure that only one unique combination of TITLE and PUB_DATE\n",
    "(the primary key) are recorded.\n",
    "\n",
    "```sql\n",
    "MERGE INTO Publications dest\n",
    "USING (\n",
    "    SELECT ISBN, Publisher, Pub_Place, Copyright\n",
    "    FROM (\n",
    "        SELECT ISBN, Publisher, Pub_Place, Copyright,\n",
    "               ROW_NUMBER() OVER (PARTITION BY ISBN ORDER BY ISBN) AS rn\n",
    "        FROM fsdb.acervus\n",
    "    ) \n",
    "    WHERE rn = 1\n",
    ") src\n",
    "ON (dest.isbn = src.ISBN)\n",
    "WHEN NOT MATCHED THEN\n",
    "    INSERT (isbn, publisher, pub_place, copyright)\n",
    "    VALUES (src.ISBN, src.Publisher, src.Pub_Place, src.Copyright);\n",
    "```\n",
    "\n",
    "- This table transfers all the necessary data into the Publications table, also using the ROW_NUMBER\n",
    "query to ensure that each publication has a unique ISBN."
   ]
  },
  {
   "cell_type": "markdown",
   "metadata": {},
   "source": [
    "```sql\n",
    "MERGE INTO Posts dest\n",
    "USING (\n",
    "    SELECT USER_ID, POST_DATE, POST, LIKES, DISLIKES, ISBN\n",
    "    FROM (\n",
    "        SELECT l.USER_ID, l.POST_DATE, NVL(l.Post, 'N/A') AS Post, l.LIKES, l.DISLIKES, e.ISBN,\n",
    "               ROW_NUMBER() OVER (PARTITION BY l.USER_ID, l.POST_DATE, NVL(l.Post, 'N/A') ORDER BY l.USER_ID) AS rn\n",
    "        FROM fsdb.loans l\n",
    "        JOIN fsdb.acervus a ON l.SIGNATURE = a.SIGNATURE\n",
    "        JOIN Editions e ON a.ISBN = e.ISBN\n",
    "        JOIN Users u ON l.USER_ID = u.user_id\n",
    "    ) \n",
    "    WHERE rn = 1\n",
    ") src\n",
    "ON (dest.user_id = src.USER_ID AND dest.post_date = src.POST_DATE AND dest.post = src.POST)\n",
    "WHEN NOT MATCHED THEN\n",
    "    INSERT (user_id, post_date, post, likes, dislikes, isbn)\n",
    "    VALUES (src.USER_ID, src.POST_DATE, src.POST, src.LIKES, src.DISLIKES, src.ISBN);\n",
    "```\n",
    "\n",
    "- The posts table also has the same features but uses JOINs to receive the data from multiple tables and effectively compile them together.Likewise with the loans table.\n",
    "\n",
    "```sql\n",
    "\n",
    "MERGE INTO Loans dest\n",
    "USING (\n",
    "    SELECT \n",
    "        l.SIGNATURE,\n",
    "        u.USER_ID,\n",
    "        l.DATE_TIME,\n",
    "        l.RETURN\n",
    "    FROM (\n",
    "        SELECT \n",
    "            SIGNATURE,\n",
    "            USER_ID,\n",
    "            DATE_TIME,\n",
    "            RETURN,\n",
    "            ROW_NUMBER() OVER (PARTITION BY SIGNATURE ORDER BY SIGNATURE) AS rn\n",
    "        FROM fsdb.loans\n",
    "        WHERE SIGNATURE IS NOT NULL\n",
    "    ) l\n",
    "    JOIN Users u ON l.USER_ID = u.USER_ID\n",
    "    WHERE l.rn = 1 -- Keep only one row per unique SIGNATURE\n",
    "    AND NOT EXISTS (\n",
    "        SELECT 1 \n",
    "        FROM Loans dest \n",
    "        WHERE dest.SIGNATURE = l.SIGNATURE\n",
    "    )\n",
    ") src\n",
    "ON (dest.SIGNATURE = src.SIGNATURE)\n",
    "WHEN NOT MATCHED THEN\n",
    "    INSERT (SIGNATURE, USER_ID, DATE_TIME, RETURN)\n",
    "    VALUES (src.SIGNATURE, src.USER_ID, src.DATE_TIME, src.RETURN);\n",
    "\n",
    "```\n",
    "---\n"
   ]
  },
  {
   "cell_type": "markdown",
   "metadata": {},
   "source": [
    "\n",
    "\n",
    "### **Challenges Faced & Solutions**\n",
    "| **Challenge**                                  | **Solution** |\n",
    "|------------------------------------------------|-------------|\n",
    "| **Ensuring Unique Identifiers** – The old tables contained duplicate records for books and publications. | Used `ROW_NUMBER()` query to ensure uniqueness for `TITLE` and `PUB_DATE` in `Books` and `ISBN` in `Publications`. |\n",
    "| **Handling Missing or Null Values** – Some entries had missing publication dates or ISBNs. | Applied default values or excluded incomplete records from migration. |\n",
    "| **Data Normalization** – The old schema stored redundant data across multiple tables. | Consolidated and mapped related attributes into normalized tables in the new schema. |\n",
    "| **Merging Data from Multiple Tables** – `Posts` and `Loans` required data from different sources. | Used `JOIN` queries to aggregate and structure the necessary information before insertion. |\n",
    "| **Foreign Key Constraints** – Dependencies between tables led to insertion errors if not handled sequentially. | Followed a structured data insertion order, starting with independent tables before dependent ones. |\n",
    "\n",
    "This structured approach ensures that the newly designed database meets the operational needs of Foundicu Org., improving efficiency, accuracy, and usability."
   ]
  },
  {
   "cell_type": "markdown",
   "metadata": {},
   "source": [
    "---"
   ]
  }
 ],
 "metadata": {
  "kernelspec": {
   "display_name": "Python 3",
   "language": "python",
   "name": "python3"
  },
  "language_info": {
   "codemirror_mode": {
    "name": "ipython",
    "version": 3
   },
   "file_extension": ".py",
   "mimetype": "text/x-python",
   "name": "python",
   "nbconvert_exporter": "python",
   "pygments_lexer": "ipython3",
   "version": "3.12.8"
  }
 },
 "nbformat": 4,
 "nbformat_minor": 2
}
