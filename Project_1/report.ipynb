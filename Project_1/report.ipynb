{
 "cells": [
  {
   "cell_type": "markdown",
   "metadata": {},
   "source": [
    "<img src=\"assets/header.png\">"
   ]
  },
  {
   "cell_type": "markdown",
   "metadata": {},
   "source": [
    "| **Lecturers:** | **EIDER ERNESTO ELBITAR LOPEZ** |               |            |\n",
    "|---------------|--------------------------------|---------------|------------|\n",
    "| **Group:**    | **R87-228**                    | **Lab User**  |            |\n",
    "| **Student:**  | **Ishaan Kalra**               | **NIA:**      | **100559793** |\n",
    "| **Student:**  | **Ben Purchase**               | **NIA:**      | **100557337** |\n",
    "| **Student:**  | **Lucas Pedemonte**            | **NIA:**      | **100558486** |"
   ]
  },
  {
   "cell_type": "markdown",
   "metadata": {},
   "source": [
    "# **Introduction**"
   ]
  },
  {
   "cell_type": "markdown",
   "metadata": {},
   "source": [
    "It will consist of an introductory paragraph, dealing with the problem to be solved, analyzing it and fixing the goals of the work. It will also refer the two separate files accompanying the report (creation_script and insertion_script). Finally, it should describe the document structure. "
   ]
  },
  {
   "cell_type": "markdown",
   "metadata": {},
   "source": [
    "# **Relational Design**"
   ]
  },
  {
   "cell_type": "markdown",
   "metadata": {},
   "source": [
    "### This section is subdivided into three subsections:\n",
    "\n",
    "#### **Relational Schema**  \n",
    "The complete design (as it should be, despite the restrictions of the tool that will be used to implement the design). The design must be notated with the relational graph notation (as explained in class).\n",
    "\n",
    "#### **Implicit Semantics**  \n",
    "Semantic presuppositions that are not found in the explicit description but are required to complete the relational design. A tabular format is recommended for describing these presuppositions, such as the following:\n",
    "\n",
    "#### **Table 1: Implicit semantics incorporated into the relational graph**\n",
    "\n",
    "| **Presp_id** | **Stage**  | **Mechanism**    | **Description**                             |\n",
    "|-------------|-----------|-----------------|---------------------------------------------|\n",
    "| I1         | Design    | Primary key     | Cars are identified by number plate        |\n",
    "| I2         |           |                 |                                             |\n",
    "| …          | …         | …               | …                                           |\n",
    "| …          | …         | …               | …                                           |\n",
    "\n",
    "### **Non-Observed Explicit Semantics**  \n",
    "Each of the explicit presuppositions (stated in the problem description) that could not be included in the relational graph will be identified (with a label, such as S1, S2, …) and described in this section. A tabular format is recommended, as shown below:\n",
    "\n",
    "#### **Table 2: Non-observed explicit semantics**\n",
    "\n",
    "| **Presp_id** | **Description**                                      |\n",
    "|-------------|--------------------------------------------------|\n",
    "| S1         | Phone numbers have 9 digits (at least, at most)  |\n",
    "| S2         |                                                  |\n",
    "| …          | …                                                |\n",
    "| …          | …                                                |"
   ]
  },
  {
   "cell_type": "markdown",
   "metadata": {},
   "source": [
    "---"
   ]
  },
  {
   "cell_type": "markdown",
   "metadata": {},
   "source": [
    "## **Relational Statics Implementation in SQL (DDL)**  \n",
    "This section must include the creation of each table. In addition to the code (`NEWcreation.sql` script) for creating tables (valid syntax in PL/SQL), you should include the corresponding subsections referring to:\n",
    "\n",
    "- **Excluded semantics that are re-incorporated**  \n",
    "- **Newly incorporated implicit semantics**  \n",
    "- **Explicit semantics that were observed but are now excluded**  \n",
    "\n",
    "All these sections will be documented in tables (see Tables 3, 4, and 5). If any of these tables are empty, the table should be omitted and replaced by a phrase such as **\"Has not been reported.\"**\n",
    "\n",
    "\n",
    "\n",
    "### **Re-incorporated Semantics**  \n",
    "(Identifiers refer to those assigned in Table 1)\n",
    "\n",
    "#### **Table 3: Re-incorporated explicit semantics**\n",
    "\n",
    "| **Presp_id** | **Solution Description**  |\n",
    "|-------------|--------------------------|\n",
    "| S1         | Field size is 9; a constraint (`constraint_name`) `CHECK (phone≥100000000)` is added to the table `<table_name>` |\n",
    "| …          | …                          |\n",
    "| …          | …                          |\n",
    "\n",
    "\n",
    "\n",
    "### **Incorporated Implicit Semantics**  \n",
    "(Numbering continues where ended in Table 2)\n",
    "\n",
    "#### **Table 4: Implicit semantics incorporated in the definition of each table**\n",
    "\n",
    "| **Presp_id** | **Stage**  | **Mechanism** | **Description**                                    |\n",
    "|-------------|-----------|--------------|--------------------------------------------------|\n",
    "| In+1       | Implem.   | Check        | There is no age greater than 120 years old      |\n",
    "| …          | …         | …            | …                                               |\n",
    "| …          | …         | …            | …                                               |\n",
    "\n",
    "\n",
    "\n",
    "### **Excluded Semantics**  \n",
    "\n",
    "#### **Table 5: Explicit semantics excluded in the creation of each table**\n",
    "\n",
    "| **Presp_id** | **Description** | **Cause** | **Explicit/Implicit** |\n",
    "|-------------|----------------|-----------|---------------------|\n",
    "| E1         | Contracts are automatically updated with the company’s update (integrity option `UC` on the FK referencing `Companies`). | PL/SQL does not observe this integrity option | Implicit |\n",
    "| …          | …              | …         | …                   |\n",
    "| …          | …              | …         | …                   |"
   ]
  },
  {
   "cell_type": "markdown",
   "metadata": {},
   "source": [
    "---"
   ]
  },
  {
   "cell_type": "markdown",
   "metadata": {},
   "source": [
    "## **Workload Uploading Process**\n",
    "\n",
    "This section will describe the uploading of the workload (NEWload.sql script) from the tables provided (and described in the statement). To this end, we will analyze the problem of populating the tables with the workload. The solution will be described, with emphasis on:\n",
    "  - The specific order of tables to dump data into them (reasoned).\t\n",
    "  - The problems that arise (obligatory field value, inconsistencies in the original data, etc...) and the solutions adopted to overcome them.\n"
   ]
  },
  {
   "cell_type": "markdown",
   "metadata": {},
   "source": [
    "---"
   ]
  }
 ],
 "metadata": {
  "language_info": {
   "name": "python"
  }
 },
 "nbformat": 4,
 "nbformat_minor": 2
}
