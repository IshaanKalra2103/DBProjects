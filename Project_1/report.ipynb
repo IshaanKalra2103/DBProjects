{
 "cells": [
  {
   "cell_type": "markdown",
   "metadata": {},
   "source": [
    "<img src=\"assets/header.png\">"
   ]
  },
  {
   "cell_type": "markdown",
   "metadata": {},
   "source": [
    "| **Lecturers:** | **EIDER ERNESTO ELBITAR LOPEZ** |               |            |\n",
    "|---------------|--------------------------------|---------------|------------|\n",
    "| **Group:**    | **R87-228**                    | **Lab User**  |            |\n",
    "| **Student:**  | **Ishaan Kalra**               | **NIA:**      | **100559793** |\n",
    "| **Student:**  | **Ben Purchase**               | **NIA:**      | **100557337** |\n",
    "| **Student:**  | **Lucas Pedemonte**            | **NIA:**      | **100558486** |"
   ]
  },
  {
   "cell_type": "markdown",
   "metadata": {},
   "source": [
    "# **Introduction**"
   ]
  },
  {
   "cell_type": "markdown",
   "metadata": {},
   "source": [
    "# **Relational Design**"
   ]
  },
  {
   "cell_type": "markdown",
   "metadata": {},
   "source": [
    "# **Relational Statics Implementation in SQL (DDL)**"
   ]
  },
  {
   "cell_type": "markdown",
   "metadata": {},
   "source": [
    "# **Workload (DML)**"
   ]
  },
  {
   "cell_type": "markdown",
   "metadata": {},
   "source": [
    "---"
   ]
  }
 ],
 "metadata": {
  "language_info": {
   "name": "python"
  }
 },
 "nbformat": 4,
 "nbformat_minor": 2
}
